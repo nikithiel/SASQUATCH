{
 "cells": [
  {
   "cell_type": "markdown",
   "id": "cae68999",
   "metadata": {},
   "source": [
    "<div>\n",
    "<h1>\n",
    "Tutorial\n",
    "</h1>\n",
    "Here is a short tutorial on how to use the <b>SASQUATCH</b> repository.\n",
    "</div>"
   ]
  },
  {
   "cell_type": "markdown",
   "id": "cdf460a6",
   "metadata": {},
   "source": [
    "<div>\n",
    "<h1>\n",
    "Preparing the data\n",
    "</h1>\n",
    "<body>\n",
    "The program takes a data in the form of a <code>.csv</code> file that reads an input and output file. <br>\n",
    "The <a style=\"color:light blue;\">input</a> columns are to the left of the output columns, followed by the <a style=\"color:red;\">output</a> columns to the right. <br>\n",
    "The data should be separated by <code>,</code> for each column and a new line for every new row. <br>\n",
    "Decimal numbers are separated using <code>.</code>. <br>\n",
    "</body>\n",
    "</div><br>\n",
    "\n",
    "<div>\n",
    "<i>Example on how the data would look like:</i><br>\n",
    "<a style=\"color:light blue;\">pressure,volume,temp</a>,<a style=\"color:red;\">probe1,probe2,probe3</a><br>\n",
    "<a style=\"color:light blue;\">1,5,2</a>,<a style=\"color:red;\">5,6,8</a><br>\n",
    "<a style=\"color:light blue;\">7.8,3.2,2.3</a>,<a style=\"color:red;\">9.3,8.1,3.6</a><br>\n",
    "</div><br>\n",
    "\n",
    "<div>\n",
    "Place the data in the <code>input_data</code> folder and change the name of the input file in <code>config.txt</code>.\n",
    "</div>"
   ]
  }
 ],
 "metadata": {
  "language_info": {
   "name": "python"
  }
 },
 "nbformat": 4,
 "nbformat_minor": 5
}
