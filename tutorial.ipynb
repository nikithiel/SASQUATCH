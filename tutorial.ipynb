{
 "cells": [
  {
   "cell_type": "markdown",
   "id": "cae68999",
   "metadata": {},
   "source": [
    "<div>\n",
    "<h1>\n",
    "Tutorial\n",
    "</h1>\n",
    "Here is a short tutorial on how to use the <b>SASQUATCH</b> repository.\n",
    "</div>"
   ]
  },
  {
   "cell_type": "markdown",
   "id": "cdf460a6",
   "metadata": {},
   "source": [
    "<div>\n",
    "<h1>\n",
    "Preparing the data\n",
    "</h1>\n",
    "<body>\n",
    "The program takes a data in the form of a <code>.csv</code> file that reads an input and output file. <br>\n",
    "The <a style=\"color:light blue;\">input</a> columns are to the left of the output columns, followed by the <a style=\"color:red;\">output</a> columns to the right. <br>\n",
    "The data should be separated by <code>,</code> for each column and a new line for every new row. <br>\n",
    "Decimal numbers are separated using <code>.</code>. <br>\n",
    "</body>\n",
    "</div><br>\n",
    "\n",
    "<div>\n",
    "<i>Example on how the data would look like:</i><br>\n",
    "<a style=\"color:light blue;\">pressure,volume,temp</a>,<a style=\"color:red;\">probe1,probe2,probe3</a><br>\n",
    "<a style=\"color:light blue;\">1,5,2</a>,<a style=\"color:red;\">5,6,8</a><br>\n",
    "<a style=\"color:light blue;\">7.8,3.2,2.3</a>,<a style=\"color:red;\">9.3,8.1,3.6</a><br>\n",
    "</div><br>\n",
    "\n",
    "<div>\n",
    "Place the data in the <code>input_data</code> folder and change the name of the input file in the <code>data_path</code> line in <a href=\"./config.txt\"><code>config.txt</code></a>.\n",
    "</div>"
   ]
  },
  {
   "cell_type": "markdown",
   "id": "660373a8",
   "metadata": {},
   "source": [
    "<div>\n",
    "<h1>Working with the configuration file</h1>\n",
    "<body>\n",
    "A configuration file <a href=\"./config.txt\"><code>config.txt</code></a> should be found in the main work directory of this repository. <br>\n",
    "Details on how to configure every inputs in that file can be found in the <a href=\"./README.md\">Readme file</a>. <br>\n",
    "The most important ones are to edit the <code>run_type</code> and <code>data_path</code>. <br>\n",
    "It is also necessary to set the column names for input and output so that the program can recognize which input and output it should be working with. This can be edited in <code>input_parameter</code> and <code>output_parameter</code>. <br>\n",
    "</body>\n",
    "</div>"
   ]
  },
  {
   "cell_type": "markdown",
   "id": "4eff4c8e",
   "metadata": {},
   "source": [
    "<div>\n",
    "<body> \n",
    "Run the following cell once to load the script. Afterwards the script can be run multiple times and it is <b>not necessary</b> to reload it. <br>\n",
    "To load the file run the following code in the cell:\n",
    "<code>\n",
    "%load 'main.py'\n",
    "</code>\n",
    "</body>\n",
    "</div>"
   ]
  },
  {
   "cell_type": "code",
   "execution_count": null,
   "id": "c85e3f30",
   "metadata": {},
   "outputs": [],
   "source": [
    "# %load 'main.py' # Run this line once, remove the front comment, delete the bottom line, and run it.\n",
    "main.py"
   ]
  },
  {
   "cell_type": "markdown",
   "id": "accaa75b",
   "metadata": {},
   "source": [
    "<div>\n",
    "<h1> Performing Data Analysis </h1>\n",
    "<body>\n",
    "After we are done editing <a href=\"./config.txt\"><code>config.txt</code></a>, we can set <code>run_type</code> to <code>da</code> for <b>data analysis</b>. </br>\n",
    "All that's left to do is just run <a href=\"./main.py\"><code>main.py</code></a>. <br>\n",
    "That can be performed in this tutorial by running the following cell. <br>\n",
    "<body>\n",
    "</div>"
   ]
  },
  {
   "cell_type": "code",
   "execution_count": null,
   "id": "7b9d95da",
   "metadata": {},
   "outputs": [],
   "source": [
    "tutorial_run_type = 'da'\n",
    "tutorial_output_name = 'tutorial'\n",
    "tutorial_showplot = False\n",
    "%matplotlib inline \n",
    "%run -i main.py"
   ]
  },
  {
   "cell_type": "markdown",
   "id": "4be66748",
   "metadata": {},
   "source": [
    "<div>\n",
    "<h1> Performing Surrogate Model Comparison </h1>\n",
    "<body>\n",
    "For performing <em>Surrogate Model Comparison</em>, we can set <code>run_type</code> to <code>su</code>. </br>\n",
    "It is also necessary to set the models that are to be used and compared for the surrogate. This can be set in the <a href=\"./config.txt\"><b>config file</b></a> at <code>models</code>. <br>\n",
    "<body>\n",
    "</div>\n",
    "\n",
    "<br>\n",
    "<div>\n",
    "<i> Example for using NIPCE, KNN and GP model: </i><br>\n",
    "<code>models NIPCE KNN GP</code><br>\n",
    "Run the following cell to perform <em>Surrogate Model Comparison</em>.<br>\n",
    "</div>"
   ]
  },
  {
   "cell_type": "code",
   "execution_count": null,
   "id": "daa57c78",
   "metadata": {},
   "outputs": [],
   "source": [
    "tutorial_run_type = 'su'\n",
    "tutorial_output_name = 'tutorial'\n",
    "tutorial_showplot = False\n",
    "%matplotlib inline\n",
    "%run -i main.py"
   ]
  },
  {
   "cell_type": "markdown",
   "id": "4c28b778",
   "metadata": {},
   "source": [
    "<div>\n",
    "<h1> Performing Sensitivity Analysis </h1>\n",
    "<body>\n",
    "For performing <em>Sensitivity Analysis</em>, we can set <code>run_type</code> to <code>sa</code>. <br>\n",
    "<code>sa_output_parameter</code> needs to be updated to list the parameters used for sensitivity analysis. This is separate from the output parameter for other processes and therefore need to be set again.<br><br>\n",
    "\n",
    "The input start can be customized by changing these following values: <br>\n",
    "<ul>\n",
    "<item> <code>input_start</code> for deciding which input start type to use (median, average or <a style=\"color: green\">specific</a>). <br>\n",
    "<item> <code>input_start_point</code> for deciding a specific start point if <a style=\"color: green\">specific</a> is selected.<br>\n",
    "<item> <code>input_start_perturbation</code> for specifying a custom perturbation to be used for each parameter in the sensitivity analysis. If only one value is set, uses that value <em>for all the parameters</em> <br>\n",
    "</ul>\n",
    "\n",
    "Then finally, the parameters to be plotted can be set: <br>\n",
    "<ul>\n",
    "<item> <code>output_parameter_sa_plot</code> which parameter to be plotted. <br>\n",
    "<item> <code>output_units_sa_plots</code> units for those parameters.<br>\n",
    "<item> <code>output_parameter_sa_plot_label</code> custom labels for those parameters. <br>\n",
    "</ul>\n",
    "All of these can be set in the <a href=\"./config.txt\"><b>config file</b></a>. <br>\n",
    "<body>\n",
    "</div>"
   ]
  },
  {
   "cell_type": "code",
   "execution_count": null,
   "id": "4dc67789",
   "metadata": {},
   "outputs": [],
   "source": [
    "tutorial_run_type = 'sa'\n",
    "tutorial_output_name = 'tutorial'\n",
    "tutorial_showplot = False\n",
    "%matplotlib inline \n",
    "%run -i main.py"
   ]
  },
  {
   "cell_type": "markdown",
   "id": "224519a5",
   "metadata": {},
   "source": [
    "<div>\n",
    "<h1> Performing Uncertainty Quantification </h1>\n",
    "<body>\n",
    "For performing <em>Uncertainty Quantification</em>, we can set <code>run_type</code> to <code>uq</code>. <br>\n",
    "\n",
    "Similar to <em>Sensitivity Analysis</em>, the output parameters to be included in the process needs to be customized separately: <br>\n",
    "<ul>\n",
    "<item> <code>uq_output_parameter</code> for deciding which parameter <em><b>grouping</b></em> to be used. The parameters are grouped as so: <code>[a,b] [c,d]</code>, for separating 2 groups with each 2 parameters. <br>\n",
    "<item> <code>uq_output_parameter_label</code> for specifying the label used. Uses similar formatting as <code>uq_output_parameter</code>.<br>\n",
    "<item> <code>uq_output_units</code> specifying the units used for each group. <em>Only use one unit for each parameter group</em>.<br>\n",
    "</ul><br>\n",
    "All of these can be set in the <a href=\"./config.txt\"><b>config file</b></a>. <br>"
   ]
  },
  {
   "cell_type": "code",
   "execution_count": null,
   "id": "a3b1b2ba",
   "metadata": {},
   "outputs": [],
   "source": [
    "tutorial_run_type = 'uq'\n",
    "tutorial_output_name = 'tutorial'\n",
    "tutorial_showplot = False\n",
    "%matplotlib inline \n",
    "%run -i main.py"
   ]
  },
  {
   "cell_type": "markdown",
   "id": "9413198d",
   "metadata": {},
   "source": [
    "Enjoy"
   ]
  }
 ],
 "metadata": {
  "kernelspec": {
   "display_name": ".venv",
   "language": "python",
   "name": "python3"
  },
  "language_info": {
   "codemirror_mode": {
    "name": "ipython",
    "version": 3
   },
   "file_extension": ".py",
   "mimetype": "text/x-python",
   "name": "python",
   "nbconvert_exporter": "python",
   "pygments_lexer": "ipython3",
   "version": "3.12.2"
  }
 },
 "nbformat": 4,
 "nbformat_minor": 5
}
